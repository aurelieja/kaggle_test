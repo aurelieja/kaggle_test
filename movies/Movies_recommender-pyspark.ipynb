{
 "cells": [
  {
   "cell_type": "markdown",
   "metadata": {},
   "source": [
    "## Import libraries"
   ]
  },
  {
   "cell_type": "code",
   "execution_count": 1,
   "metadata": {},
   "outputs": [],
   "source": [
    "import pyspark\n",
    "from pyspark.sql.types import *\n",
    "from pyspark.sql.functions import isnan, when, count, col\n",
    "\n",
    "from pyspark.sql import SparkSession"
   ]
  },
  {
   "cell_type": "code",
   "execution_count": 2,
   "metadata": {},
   "outputs": [],
   "source": [
    "import pyspark.sql.functions as sql_func\n",
    "\n",
    "from pyspark.ml.recommendation import ALS, ALSModel\n",
    "\n",
    "from pyspark.mllib.evaluation import RegressionMetrics, RankingMetrics\n",
    "from pyspark.ml.evaluation import RegressionEvaluator"
   ]
  },
  {
   "cell_type": "markdown",
   "metadata": {},
   "source": [
    "## Spark session"
   ]
  },
  {
   "cell_type": "code",
   "execution_count": 3,
   "metadata": {},
   "outputs": [],
   "source": [
    "spark = SparkSession.builder.appName(\"recommender\").getOrCreate()"
   ]
  },
  {
   "cell_type": "code",
   "execution_count": 8,
   "metadata": {},
   "outputs": [],
   "source": [
    "# To get dataframe outputs that are nice looking into jupyter\n",
    "spark.conf.set(\"spark.sql.repl.eagerEval.enabled\", True)"
   ]
  },
  {
   "cell_type": "markdown",
   "metadata": {},
   "source": [
    "## Read the data"
   ]
  },
  {
   "cell_type": "code",
   "execution_count": 4,
   "metadata": {},
   "outputs": [],
   "source": [
    "data_schema = StructType([\n",
    "    StructField('userId', IntegerType(), False),\n",
    "    StructField('movieId', IntegerType(), False),\n",
    "    StructField('rating', FloatType(), False),\n",
    "    StructField('timestamp',IntegerType(), False)\n",
    "])"
   ]
  },
  {
   "cell_type": "code",
   "execution_count": 6,
   "metadata": {},
   "outputs": [],
   "source": [
    "df = spark.read.csv('ratings_small.csv', header=True, schema=data_schema).cache()"
   ]
  },
  {
   "cell_type": "code",
   "execution_count": 10,
   "metadata": {},
   "outputs": [],
   "source": [
    "df = df.drop('timestamp')"
   ]
  },
  {
   "cell_type": "code",
   "execution_count": 11,
   "metadata": {},
   "outputs": [
    {
     "data": {
      "text/html": [
       "<table border='1'>\n",
       "<tr><th>userId</th><th>movieId</th><th>rating</th></tr>\n",
       "<tr><td>1</td><td>31</td><td>2.5</td></tr>\n",
       "<tr><td>1</td><td>1029</td><td>3.0</td></tr>\n",
       "<tr><td>1</td><td>1061</td><td>3.0</td></tr>\n",
       "<tr><td>1</td><td>1129</td><td>2.0</td></tr>\n",
       "<tr><td>1</td><td>1172</td><td>4.0</td></tr>\n",
       "<tr><td>1</td><td>1263</td><td>2.0</td></tr>\n",
       "<tr><td>1</td><td>1287</td><td>2.0</td></tr>\n",
       "<tr><td>1</td><td>1293</td><td>2.0</td></tr>\n",
       "<tr><td>1</td><td>1339</td><td>3.5</td></tr>\n",
       "<tr><td>1</td><td>1343</td><td>2.0</td></tr>\n",
       "<tr><td>1</td><td>1371</td><td>2.5</td></tr>\n",
       "<tr><td>1</td><td>1405</td><td>1.0</td></tr>\n",
       "<tr><td>1</td><td>1953</td><td>4.0</td></tr>\n",
       "<tr><td>1</td><td>2105</td><td>4.0</td></tr>\n",
       "<tr><td>1</td><td>2150</td><td>3.0</td></tr>\n",
       "<tr><td>1</td><td>2193</td><td>2.0</td></tr>\n",
       "<tr><td>1</td><td>2294</td><td>2.0</td></tr>\n",
       "<tr><td>1</td><td>2455</td><td>2.5</td></tr>\n",
       "<tr><td>1</td><td>2968</td><td>1.0</td></tr>\n",
       "<tr><td>1</td><td>3671</td><td>3.0</td></tr>\n",
       "</table>\n",
       "only showing top 20 rows\n"
      ],
      "text/plain": [
       "+------+-------+------+\n",
       "|userId|movieId|rating|\n",
       "+------+-------+------+\n",
       "|     1|     31|   2.5|\n",
       "|     1|   1029|   3.0|\n",
       "|     1|   1061|   3.0|\n",
       "|     1|   1129|   2.0|\n",
       "|     1|   1172|   4.0|\n",
       "|     1|   1263|   2.0|\n",
       "|     1|   1287|   2.0|\n",
       "|     1|   1293|   2.0|\n",
       "|     1|   1339|   3.5|\n",
       "|     1|   1343|   2.0|\n",
       "|     1|   1371|   2.5|\n",
       "|     1|   1405|   1.0|\n",
       "|     1|   1953|   4.0|\n",
       "|     1|   2105|   4.0|\n",
       "|     1|   2150|   3.0|\n",
       "|     1|   2193|   2.0|\n",
       "|     1|   2294|   2.0|\n",
       "|     1|   2455|   2.5|\n",
       "|     1|   2968|   1.0|\n",
       "|     1|   3671|   3.0|\n",
       "+------+-------+------+\n",
       "only showing top 20 rows"
      ]
     },
     "execution_count": 11,
     "metadata": {},
     "output_type": "execute_result"
    }
   ],
   "source": [
    "df"
   ]
  },
  {
   "cell_type": "markdown",
   "metadata": {},
   "source": [
    "## Split the dataset in training and test sets"
   ]
  },
  {
   "cell_type": "code",
   "execution_count": 12,
   "metadata": {},
   "outputs": [],
   "source": [
    "(training, test) = ratings.randomSplit([0.7, 0.3], seed=42)"
   ]
  },
  {
   "cell_type": "markdown",
   "metadata": {},
   "source": [
    "## Build the recommendation model using ALS on the training data"
   ]
  },
  {
   "cell_type": "code",
   "execution_count": 13,
   "metadata": {},
   "outputs": [],
   "source": [
    "als = ALS(\n",
    "          rank=30,\n",
    "          maxIter=4, \n",
    "          regParam=0.1,\n",
    "          userCol='userId', \n",
    "          itemCol='movieId', \n",
    "          ratingCol='rating',\n",
    "          coldStartStrategy='drop',\n",
    "          implicitPrefs=False\n",
    "         )"
   ]
  },
  {
   "cell_type": "code",
   "execution_count": 14,
   "metadata": {},
   "outputs": [],
   "source": [
    "model = als.fit(training)"
   ]
  },
  {
   "cell_type": "markdown",
   "metadata": {},
   "source": [
    "## Evaluate the model"
   ]
  },
  {
   "cell_type": "code",
   "execution_count": 15,
   "metadata": {},
   "outputs": [],
   "source": [
    "predictions = model.transform(test)"
   ]
  },
  {
   "cell_type": "markdown",
   "metadata": {},
   "source": [
    " ### ...by computing the MAE on the test data"
   ]
  },
  {
   "cell_type": "code",
   "execution_count": 17,
   "metadata": {},
   "outputs": [
    {
     "data": {
      "text/plain": [
       "0.7209757297941944"
      ]
     },
     "execution_count": 17,
     "metadata": {},
     "output_type": "execute_result"
    }
   ],
   "source": [
    "evaluator_mae = RegressionEvaluator(metricName='mae', labelCol='rating',\n",
    "                                predictionCol='prediction')\n",
    "\n",
    "evaluator_mae.evaluate(predictions)\n"
   ]
  },
  {
   "cell_type": "markdown",
   "metadata": {},
   "source": [
    " ### ...by computing the RMSE on the test data"
   ]
  },
  {
   "cell_type": "code",
   "execution_count": 18,
   "metadata": {},
   "outputs": [
    {
     "data": {
      "text/plain": [
       "0.9282258446797904"
      ]
     },
     "execution_count": 18,
     "metadata": {},
     "output_type": "execute_result"
    }
   ],
   "source": [
    "evaluator_rmse = RegressionEvaluator(metricName=\"rmse\", labelCol=\"rating\",\n",
    "                                predictionCol=\"prediction\")\n",
    "\n",
    "evaluator_rmse.evaluate(predictions)"
   ]
  },
  {
   "cell_type": "markdown",
   "metadata": {},
   "source": [
    "## Recommendations"
   ]
  },
  {
   "cell_type": "markdown",
   "metadata": {},
   "source": [
    "### ...top 3 movie recommendations for each user"
   ]
  },
  {
   "cell_type": "markdown",
   "metadata": {},
   "source": [
    "list of [movieId, predicted rating]"
   ]
  },
  {
   "cell_type": "code",
   "execution_count": 23,
   "metadata": {},
   "outputs": [
    {
     "name": "stdout",
     "output_type": "stream",
     "text": [
      "+------+------------------------------------------------------------+\n",
      "|userId|recommendations                                             |\n",
      "+------+------------------------------------------------------------+\n",
      "|471   |[[3414, 4.8970337], [3030, 4.7155657], [599, 4.567352]]     |\n",
      "|463   |[[67504, 4.840533], [83411, 4.840533], [83318, 4.840533]]   |\n",
      "|496   |[[3414, 5.0007257], [916, 4.944495], [318, 4.9396644]]      |\n",
      "|148   |[[67504, 5.3121815], [83411, 5.3121815], [83318, 5.3121815]]|\n",
      "|540   |[[1150, 4.5969515], [1131, 4.518958], [838, 4.4133058]]     |\n",
      "+------+------------------------------------------------------------+\n",
      "only showing top 5 rows\n",
      "\n"
     ]
    }
   ],
   "source": [
    "model.recommendForAllUsers(3).show(5, truncate=False)"
   ]
  },
  {
   "cell_type": "markdown",
   "metadata": {},
   "source": [
    "### ...top 3 user recommendations for each movie"
   ]
  },
  {
   "cell_type": "markdown",
   "metadata": {},
   "source": [
    "list of [userId, predicted rating]"
   ]
  },
  {
   "cell_type": "code",
   "execution_count": 27,
   "metadata": {},
   "outputs": [
    {
     "name": "stdout",
     "output_type": "stream",
     "text": [
      "+-------+-----------------------------------------------------+\n",
      "|movieId|recommendations                                      |\n",
      "+-------+-----------------------------------------------------+\n",
      "|1580   |[[113, 5.014726], [543, 4.8468328], [145, 4.70602]]  |\n",
      "|5300   |[[257, 4.802076], [546, 4.4074507], [577, 4.357668]] |\n",
      "|6620   |[[357, 4.8438497], [156, 4.677115], [443, 4.6186557]]|\n",
      "|7340   |[[621, 4.3526173], [112, 4.141518], [546, 4.000797]] |\n",
      "|54190  |[[473, 4.580847], [113, 4.3279715], [296, 4.236387]] |\n",
      "+-------+-----------------------------------------------------+\n",
      "only showing top 5 rows\n",
      "\n"
     ]
    }
   ],
   "source": [
    "model.recommendForAllItems(3).show(5, truncate=False)"
   ]
  },
  {
   "cell_type": "markdown",
   "metadata": {},
   "source": [
    "## Stop Spark session"
   ]
  },
  {
   "cell_type": "code",
   "execution_count": 28,
   "metadata": {},
   "outputs": [],
   "source": [
    "spark.stop()"
   ]
  }
 ],
 "metadata": {
  "kernelspec": {
   "display_name": "venv_kaggle",
   "language": "python",
   "name": "venv_kaggle"
  },
  "language_info": {
   "codemirror_mode": {
    "name": "ipython",
    "version": 3
   },
   "file_extension": ".py",
   "mimetype": "text/x-python",
   "name": "python",
   "nbconvert_exporter": "python",
   "pygments_lexer": "ipython3",
   "version": "3.7.4"
  }
 },
 "nbformat": 4,
 "nbformat_minor": 4
}
